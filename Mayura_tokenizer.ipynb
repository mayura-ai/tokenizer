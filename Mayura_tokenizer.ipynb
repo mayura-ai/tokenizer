{
  "nbformat": 4,
  "nbformat_minor": 0,
  "metadata": {
    "colab": {
      "provenance": [],
      "gpuType": "T4"
    },
    "kernelspec": {
      "name": "python3",
      "display_name": "Python 3"
    },
    "language_info": {
      "name": "python"
    },
    "accelerator": "GPU"
  },
  "cells": [
    {
      "cell_type": "markdown",
      "source": [
        "# Tokenizer for Indie Language\n"
      ],
      "metadata": {
        "id": "xsYL275exV7T"
      }
    },
    {
      "cell_type": "code",
      "source": [
        "#Initializing the data for vocabulary\n",
        "corpus2 = [\n",
        "    \"প্রেমিকের সঙ্গে বান্ধবীর ঘনিষ্ঠতার ভিডিয়ো তুলে টাকা আদায়! কলকাতার শিক্ষিকা-সহ গ্রেফতার দুই\",\n",
        "    \"পুলিশের একটি সূত্র জানাচ্ছে, ধৃত স্কুলশিক্ষিকা পঞ্চসায়রের একটি বেসরকারি স্কুলে পড়ান। তাঁর সঙ্গে প্রেমের সম্পর্ক রয়েছে কলকাতা মেট্রোয় কর্মরত এক যুবকের। দু’জনকেই গ্রেফতার করা হয়েছে।\"\n",
        "]"
      ],
      "metadata": {
        "id": "00SkvWvYZHDI"
      },
      "execution_count": 1,
      "outputs": []
    },
    {
      "cell_type": "markdown",
      "source": [
        "**Defining the Pre-Tokenizer**"
      ],
      "metadata": {
        "id": "4Q0_rNS1xj2J"
      }
    },
    {
      "cell_type": "code",
      "source": [
        "from collections import defaultdict\n",
        "def tokenizer(corpus2):\n",
        "  word_counts = defaultdict(int)\n",
        "  for sentence in corpus2:\n",
        "      words = sentence.split()\n",
        "      for word in words:\n",
        "          word_counts[word] += 1\n",
        "  return word_counts\n",
        "\n",
        ""
      ],
      "metadata": {
        "id": "u_M86SsScDO3"
      },
      "execution_count": 2,
      "outputs": []
    },
    {
      "cell_type": "code",
      "source": [
        "#Splitting the sentence into words\n",
        "word_counts = tokenizer(corpus2)"
      ],
      "metadata": {
        "id": "-l4JP2h-mbKZ"
      },
      "execution_count": 3,
      "outputs": []
    },
    {
      "cell_type": "code",
      "source": [
        "print(word_counts)"
      ],
      "metadata": {
        "colab": {
          "base_uri": "https://localhost:8080/"
        },
        "id": "wNr07fRTxSMX",
        "outputId": "fa00a1df-3f8f-4de2-bb32-6927d3dd2623"
      },
      "execution_count": 4,
      "outputs": [
        {
          "output_type": "stream",
          "name": "stdout",
          "text": [
            "defaultdict(<class 'int'>, {'প্রেমিকের': 1, 'সঙ্গে': 2, 'বান্ধবীর': 1, 'ঘনিষ্ঠতার': 1, 'ভিডিয়ো': 1, 'তুলে': 1, 'টাকা': 1, 'আদায়!': 1, 'কলকাতার': 1, 'শিক্ষিকা-সহ': 1, 'গ্রেফতার': 2, 'দুই': 1, 'পুলিশের': 1, 'একটি': 2, 'সূত্র': 1, 'জানাচ্ছে,': 1, 'ধৃত': 1, 'স্কুলশিক্ষিকা': 1, 'পঞ্চসায়রের': 1, 'বেসরকারি': 1, 'স্কুলে': 1, 'পড়ান।': 1, 'তাঁর': 1, 'প্রেমের': 1, 'সম্পর্ক': 1, 'রয়েছে': 1, 'কলকাতা': 1, 'মেট্রোয়': 1, 'কর্মরত': 1, 'এক': 1, 'যুবকের।': 1, 'দু’জনকেই': 1, 'করা': 1, 'হয়েছে।': 1})\n"
          ]
        }
      ]
    },
    {
      "cell_type": "code",
      "source": [
        "vocab = []\n",
        "#compute the base vocabulary, formed by all the characters used in the corpus:\n",
        "for word in word_counts.keys():\n",
        "    for letter in word:\n",
        "        if letter not in vocab:\n",
        "            vocab.append(letter)\n",
        "vocab.sort()\n",
        "\n",
        "print(vocab)"
      ],
      "metadata": {
        "colab": {
          "base_uri": "https://localhost:8080/"
        },
        "id": "Hi2SbApNA2zy",
        "outputId": "adde13d5-25d8-4f0b-a3d1-9e7eaa38bc39"
      },
      "execution_count": 5,
      "outputs": [
        {
          "output_type": "stream",
          "name": "stdout",
          "text": [
            "['!', ',', '-', '।', 'ঁ', 'আ', 'ই', 'এ', 'ক', 'গ', 'ঘ', 'ঙ', 'চ', 'ছ', 'জ', 'ঞ', 'ট', 'ঠ', 'ড', 'ত', 'দ', 'ধ', 'ন', 'প', 'ফ', 'ব', 'ভ', 'ম', 'য', 'র', 'ল', 'শ', 'ষ', 'স', 'হ', '়', 'া', 'ি', 'ী', 'ু', 'ূ', 'ৃ', 'ে', 'ো', '্', 'য়', '’']\n"
          ]
        }
      ]
    },
    {
      "cell_type": "markdown",
      "source": [
        "**Split each word into individual characters, to be able to start training**"
      ],
      "metadata": {
        "id": "kARIVIcoyQ6e"
      }
    },
    {
      "cell_type": "code",
      "source": [
        "splits = {word: [c for c in word] for word in word_counts.keys()}"
      ],
      "metadata": {
        "id": "jj4aMrmQA83J"
      },
      "execution_count": 6,
      "outputs": []
    },
    {
      "cell_type": "code",
      "source": [
        "# A function that computes the frequency of each pair\n",
        "def compute_pair_freqs(splits):\n",
        "    pair_freqs = defaultdict(int)\n",
        "    for word, freq in word_counts.items():\n",
        "        split = splits[word]\n",
        "        if len(split) == 1:\n",
        "            continue\n",
        "        for i in range(len(split) - 1):\n",
        "            pair = (split[i], split[i + 1])\n",
        "            pair_freqs[pair] += freq\n",
        "    return pair_freqs"
      ],
      "metadata": {
        "id": "R9fSggY6BAii"
      },
      "execution_count": 7,
      "outputs": []
    },
    {
      "cell_type": "code",
      "source": [
        "pair_freqs = compute_pair_freqs(splits)\n",
        "\n",
        "for i, key in enumerate(pair_freqs.keys()):\n",
        "    print(f\"{key}: {pair_freqs[key]}\")\n",
        "    if i >= 5:\n",
        "        break"
      ],
      "metadata": {
        "colab": {
          "base_uri": "https://localhost:8080/"
        },
        "id": "5zcXxFBhBCxh",
        "outputId": "751e9a6e-303f-49c2-c36c-7cd6a7a62885"
      },
      "execution_count": 8,
      "outputs": [
        {
          "output_type": "stream",
          "name": "stdout",
          "text": [
            "('প', '্'): 2\n",
            "('্', 'র'): 6\n",
            "('র', 'ে'): 5\n",
            "('ে', 'ম'): 2\n",
            "('ম', 'ি'): 1\n",
            "('ি', 'ক'): 5\n"
          ]
        }
      ]
    },
    {
      "cell_type": "code",
      "source": [
        "#finding the most frequent pair\n",
        "best_pair = \"\"\n",
        "max_freq = None\n",
        "\n",
        "for pair, freq in pair_freqs.items():\n",
        "    if max_freq is None or max_freq < freq:\n",
        "        best_pair = pair\n",
        "        max_freq = freq\n",
        "\n",
        "print(best_pair, max_freq)"
      ],
      "metadata": {
        "colab": {
          "base_uri": "https://localhost:8080/"
        },
        "id": "080d2py4BF9e",
        "outputId": "0370947f-7370-4ca7-84cb-8fbe1ddacec3"
      },
      "execution_count": 9,
      "outputs": [
        {
          "output_type": "stream",
          "name": "stdout",
          "text": [
            "('্', 'র') 6\n"
          ]
        }
      ]
    },
    {
      "cell_type": "code",
      "source": [
        " #applying the merge in our splits dictionary\n",
        "def merge_pair(a, b, splits):\n",
        "    for word in word_counts:\n",
        "        split = splits[word]\n",
        "        if len(split) == 1:\n",
        "            continue\n",
        "\n",
        "        i = 0\n",
        "        while i < len(split) - 1:\n",
        "            if split[i] == a and split[i + 1] == b:\n",
        "                split = split[:i] + [a + b] + split[i + 2 :]\n",
        "            else:\n",
        "                i += 1\n",
        "        splits[word] = split\n",
        "    return splits"
      ],
      "metadata": {
        "id": "_LcS3qhxBKLG"
      },
      "execution_count": 10,
      "outputs": []
    },
    {
      "cell_type": "markdown",
      "source": [
        "# Training"
      ],
      "metadata": {
        "id": "XoII6ADnyrER"
      }
    },
    {
      "cell_type": "code",
      "source": [
        "vocab_size = 50\n",
        "merges= {}\n",
        "vocab = []\n",
        "\n",
        "while len(vocab) < vocab_size:\n",
        "    pair_freqs = compute_pair_freqs(splits)\n",
        "    best_pair = \"\"\n",
        "    max_freq = None\n",
        "    for pair, freq in pair_freqs.items():\n",
        "        if max_freq is None or max_freq < freq:\n",
        "            best_pair = pair\n",
        "            max_freq = freq\n",
        "    splits = merge_pair(*best_pair, splits)\n",
        "    merges[best_pair] = best_pair[0] + best_pair[1]\n",
        "    vocab.append(best_pair[0] + best_pair[1])"
      ],
      "metadata": {
        "id": "OY_8nZV7BPCF"
      },
      "execution_count": 11,
      "outputs": []
    },
    {
      "cell_type": "code",
      "source": [
        "print(merges)"
      ],
      "metadata": {
        "colab": {
          "base_uri": "https://localhost:8080/"
        },
        "id": "PdiTGs78BR2_",
        "outputId": "84cd0de2-7695-4ec8-bbea-bb6333961bc6"
      },
      "execution_count": 12,
      "outputs": [
        {
          "output_type": "stream",
          "name": "stdout",
          "text": [
            "{('্', 'র'): '্র', ('ত', 'া'): 'তা', ('ক', 'া'): 'কা', ('ে', 'র'): 'ের', ('্র', 'ে'): '্রে', ('তা', 'র'): 'তার', ('ু', 'ল'): 'ুল', ('ি', 'ক'): 'িক', ('া', 'ন'): 'ান', ('এ', 'ক'): 'এক', ('ছ', 'ে'): 'ছে', ('্', 'ক'): '্ক', ('প', '্রে'): 'প্রে', ('প্রে', 'ম'): 'প্রেম', ('স', 'ঙ'): 'সঙ', ('সঙ', '্'): 'সঙ্', ('সঙ্', 'গ'): 'সঙ্গ', ('সঙ্গ', 'ে'): 'সঙ্গে', ('ুল', 'ে'): 'ুলে', ('া', 'য়'): 'ায়', ('ক', 'ল'): 'কল', ('কল', 'কা'): 'কলকা', ('শ', 'িক'): 'শিক', ('শিক', '্'): 'শিক্', ('শিক্', 'ষ'): 'শিক্ষ', ('শিক্ষ', 'ি'): 'শিক্ষি', ('শিক্ষি', 'কা'): 'শিক্ষিকা', ('গ', '্রে'): 'গ্রে', ('গ্রে', 'ফ'): 'গ্রেফ', ('গ্রেফ', 'তার'): 'গ্রেফতার', ('দ', 'ু'): 'দু', ('এক', 'ট'): 'একট', ('একট', 'ি'): 'একটি', ('স', '্ক'): 'স্ক', ('য়', 'ে'): 'য়ে', ('য়ে', 'ছে'): 'য়েছে', ('ক', 'র'): 'কর', ('প্রেম', 'িক'): 'প্রেমিক', ('প্রেমিক', 'ের'): 'প্রেমিকের', ('ব', 'ান'): 'বান', ('বান', '্'): 'বান্', ('বান্', 'ধ'): 'বান্ধ', ('বান্ধ', 'ব'): 'বান্ধব', ('বান্ধব', 'ী'): 'বান্ধবী', ('বান্ধবী', 'র'): 'বান্ধবীর', ('ঘ', 'ন'): 'ঘন', ('ঘন', 'ি'): 'ঘনি', ('ঘনি', 'ষ'): 'ঘনিষ', ('ঘনিষ', '্'): 'ঘনিষ্', ('ঘনিষ্', 'ঠ'): 'ঘনিষ্ঠ'}\n"
          ]
        }
      ]
    },
    {
      "cell_type": "code",
      "source": [
        "print(vocab)"
      ],
      "metadata": {
        "colab": {
          "base_uri": "https://localhost:8080/"
        },
        "id": "Dvxv1o2KBUb4",
        "outputId": "38d5e282-6867-488e-8855-228f9f993a96"
      },
      "execution_count": 13,
      "outputs": [
        {
          "output_type": "stream",
          "name": "stdout",
          "text": [
            "['্র', 'তা', 'কা', 'ের', '্রে', 'তার', 'ুল', 'িক', 'ান', 'এক', 'ছে', '্ক', 'প্রে', 'প্রেম', 'সঙ', 'সঙ্', 'সঙ্গ', 'সঙ্গে', 'ুলে', 'ায়', 'কল', 'কলকা', 'শিক', 'শিক্', 'শিক্ষ', 'শিক্ষি', 'শিক্ষিকা', 'গ্রে', 'গ্রেফ', 'গ্রেফতার', 'দু', 'একট', 'একটি', 'স্ক', 'য়ে', 'য়েছে', 'কর', 'প্রেমিক', 'প্রেমিকের', 'বান', 'বান্', 'বান্ধ', 'বান্ধব', 'বান্ধবী', 'বান্ধবীর', 'ঘন', 'ঘনি', 'ঘনিষ', 'ঘনিষ্', 'ঘনিষ্ঠ']\n"
          ]
        }
      ]
    },
    {
      "cell_type": "code",
      "source": [
        "def tokenize(text):\n",
        "    pre_tokenized_text = tokenizer(text)\n",
        "\n",
        "    splits = [[l for l in word] for word in pre_tokenized_text]\n",
        "    for pair, merge in merges.items():\n",
        "        for idx, split in enumerate(splits):\n",
        "            i = 0\n",
        "            while i < len(split) - 1:\n",
        "                if split[i] == pair[0] and split[i + 1] == pair[1]:\n",
        "\n",
        "                    split = split[:i] + [merge] + split[i + 2 :]\n",
        "                else:\n",
        "                    i += 1\n",
        "            splits[idx] = split\n",
        "    return sum(splits, [])\n",
        "print(merges.items())\n",
        "tokenize(\"প্রেমিকের সঙ্গে বান্ধবীর ঘনিষ্ঠতার ভিডিয়ো তুলে টাকা আদায়!\")"
      ],
      "metadata": {
        "colab": {
          "base_uri": "https://localhost:8080/"
        },
        "id": "rPgDjvhovPrA",
        "outputId": "41771c0c-3960-41b1-bc4f-a4a0c0ee54f5"
      },
      "execution_count": 19,
      "outputs": [
        {
          "output_type": "stream",
          "name": "stdout",
          "text": [
            "dict_items([(('্', 'র'), '্র'), (('ত', 'া'), 'তা'), (('ক', 'া'), 'কা'), (('ে', 'র'), 'ের'), (('্র', 'ে'), '্রে'), (('তা', 'র'), 'তার'), (('ু', 'ল'), 'ুল'), (('ি', 'ক'), 'িক'), (('া', 'ন'), 'ান'), (('এ', 'ক'), 'এক'), (('ছ', 'ে'), 'ছে'), (('্', 'ক'), '্ক'), (('প', '্রে'), 'প্রে'), (('প্রে', 'ম'), 'প্রেম'), (('স', 'ঙ'), 'সঙ'), (('সঙ', '্'), 'সঙ্'), (('সঙ্', 'গ'), 'সঙ্গ'), (('সঙ্গ', 'ে'), 'সঙ্গে'), (('ুল', 'ে'), 'ুলে'), (('া', 'য়'), 'ায়'), (('ক', 'ল'), 'কল'), (('কল', 'কা'), 'কলকা'), (('শ', 'িক'), 'শিক'), (('শিক', '্'), 'শিক্'), (('শিক্', 'ষ'), 'শিক্ষ'), (('শিক্ষ', 'ি'), 'শিক্ষি'), (('শিক্ষি', 'কা'), 'শিক্ষিকা'), (('গ', '্রে'), 'গ্রে'), (('গ্রে', 'ফ'), 'গ্রেফ'), (('গ্রেফ', 'তার'), 'গ্রেফতার'), (('দ', 'ু'), 'দু'), (('এক', 'ট'), 'একট'), (('একট', 'ি'), 'একটি'), (('স', '্ক'), 'স্ক'), (('য়', 'ে'), 'য়ে'), (('য়ে', 'ছে'), 'য়েছে'), (('ক', 'র'), 'কর'), (('প্রেম', 'িক'), 'প্রেমিক'), (('প্রেমিক', 'ের'), 'প্রেমিকের'), (('ব', 'ান'), 'বান'), (('বান', '্'), 'বান্'), (('বান্', 'ধ'), 'বান্ধ'), (('বান্ধ', 'ব'), 'বান্ধব'), (('বান্ধব', 'ী'), 'বান্ধবী'), (('বান্ধবী', 'র'), 'বান্ধবীর'), (('ঘ', 'ন'), 'ঘন'), (('ঘন', 'ি'), 'ঘনি'), (('ঘনি', 'ষ'), 'ঘনিষ'), (('ঘনিষ', '্'), 'ঘনিষ্'), (('ঘনিষ্', 'ঠ'), 'ঘনিষ্ঠ')])\n"
          ]
        },
        {
          "output_type": "execute_result",
          "data": {
            "text/plain": [
              "['প',\n",
              " '্',\n",
              " 'র',\n",
              " 'ে',\n",
              " 'ম',\n",
              " 'ি',\n",
              " 'ক',\n",
              " 'স',\n",
              " 'ঙ',\n",
              " 'গ',\n",
              " 'ব',\n",
              " 'া',\n",
              " 'ন',\n",
              " 'ধ',\n",
              " 'ী',\n",
              " 'ঘ',\n",
              " 'ষ',\n",
              " 'ঠ',\n",
              " 'ত',\n",
              " 'ভ',\n",
              " 'ড',\n",
              " 'য়',\n",
              " 'ো',\n",
              " 'ু',\n",
              " 'ল',\n",
              " 'ট',\n",
              " 'আ',\n",
              " 'দ',\n",
              " '!']"
            ]
          },
          "metadata": {},
          "execution_count": 19
        }
      ]
    },
    {
      "cell_type": "code",
      "source": [
        "tokenize(\"প্রেমিকের সঙ্গে বান্ধবীর ঘনিষ্ঠতার ভিডিয়ো তুলে টাকা আদায়!\")"
      ],
      "metadata": {
        "colab": {
          "base_uri": "https://localhost:8080/"
        },
        "id": "Mc_0Ic9UBagE",
        "outputId": "082b2b29-faa3-41be-aef3-355da6e0c6f6"
      },
      "execution_count": 19,
      "outputs": [
        {
          "output_type": "execute_result",
          "data": {
            "text/plain": [
              "['প',\n",
              " '্',\n",
              " 'র',\n",
              " 'ে',\n",
              " 'ম',\n",
              " 'ি',\n",
              " 'ক',\n",
              " 'স',\n",
              " 'ঙ',\n",
              " 'গ',\n",
              " 'ব',\n",
              " 'া',\n",
              " 'ন',\n",
              " 'ধ',\n",
              " 'ী',\n",
              " 'ঘ',\n",
              " 'ষ',\n",
              " 'ঠ',\n",
              " 'ত',\n",
              " 'ভ',\n",
              " 'ড',\n",
              " 'য়',\n",
              " 'ো',\n",
              " 'ু',\n",
              " 'ল',\n",
              " 'ট',\n",
              " 'আ',\n",
              " 'দ',\n",
              " '!']"
            ]
          },
          "metadata": {},
          "execution_count": 19
        }
      ]
    }
  ]
}